{
 "cells": [
  {
   "cell_type": "markdown",
   "metadata": {},
   "source": [
    "<br>Predict Pin\n",
    "<br>Doles, Nix, Terlecky\n",
    "\n",
    "<br>In this file:\n",
    "<br>    choose pin \n",
    "<br>    generate pseudo-data from known pin\n",
    "<br>    input data into mlp\n",
    "<br>    output is predicitons\n",
    "<br>    print predicitons"
   ]
  },
  {
   "cell_type": "markdown",
   "metadata": {},
   "source": [
    "Code below generates raw accellerometer data from the known pin, which is then used as input to the mlp and svc classifiers. The probs are used to generate a guess list "
   ]
  },
  {
   "cell_type": "code",
   "execution_count": 31,
   "metadata": {},
   "outputs": [],
   "source": [
    "%run util.py\n"
   ]
  },
  {
   "cell_type": "code",
   "execution_count": 42,
   "metadata": {},
   "outputs": [
    {
     "name": "stdout",
     "output_type": "stream",
     "text": [
      "Known Pin :  [1, 2, 3, 8]\n",
      "\n",
      "Support Vector Predictions : \n",
      "[[5, 6], [5, 6], [3, 8]]\n",
      "\n",
      "MLP Neural Network Predictions: \n",
      "[7, 8, 9, 0]  Model Confidence:  0.00132335133732\n",
      "[1, 2, 3, 0]  Model Confidence:  0.0295549390286\n",
      "[1, 2, 3, 8]  Model Confidence:  0.764314401855\n",
      "[1, 2, 3, 7]  Model Confidence:  0.00353083011331\n",
      "[1, 2, 3, 5]  Model Confidence:  0.00219919922072\n",
      "[4, 5, 6, 0]  Model Confidence:  0.74604152356\n",
      "Most Likely:  [1, 2, 3, 8]\n",
      "\n",
      "Random Forest Predictions: \n",
      "(Trained on 100 % of data)\n",
      "[2, 9, 9, 9]  Model Confidence:  0.0\n",
      "[3, 5, 6, 0]  Model Confidence:  0.0\n",
      "[3, 1, 2, 9]  Model Confidence:  0.0\n",
      "[3, 1, 2, 7]  Model Confidence:  0.0\n",
      "[3, 3, 2, 9]  Model Confidence:  0.0\n",
      "[3, 3, 2, 7]  Model Confidence:  0.0\n",
      "Most Likely:  [4, 5, 6, 0]\n",
      "(Trained on 60.0 % of data)\n",
      "[3, 5, 6, 0]  Model Confidence:  0.0\n",
      "[3, 2, 3, 3]  Model Confidence:  0.0\n",
      "[3, 2, 3, 1]  Model Confidence:  0.0\n",
      "[3, 2, 3, 8]  Model Confidence:  0.0\n",
      "[3, 2, 3, 4]  Model Confidence:  0.0\n",
      "[3, 2, 3, 5]  Model Confidence:  0.0\n",
      "Most Likely:  [1, 2, 3, 8]\n",
      "(Trained on 70.0 % of data)\n",
      "[3, 2, 9, 9]  Model Confidence:  0.0\n",
      "[3, 2, 3, 3]  Model Confidence:  0.0\n",
      "[3, 2, 3, 1]  Model Confidence:  0.0\n",
      "[3, 2, 3, 8]  Model Confidence:  0.0\n",
      "[3, 2, 3, 4]  Model Confidence:  0.0\n",
      "[3, 2, 3, 5]  Model Confidence:  0.0\n",
      "Most Likely:  [1, 2, 3, 8]\n",
      "(Trained on 80.0 % of data)\n",
      "[2, 9, 9, 9]  Model Confidence:  0.0\n",
      "[9, 9, 9, 9]  Model Confidence:  0.0\n",
      "[3, 1, 2, 9]  Model Confidence:  0.0\n",
      "[3, 1, 2, 7]  Model Confidence:  0.0\n",
      "[3, 2, 9, 9]  Model Confidence:  0.0\n",
      "[3, 2, 3, 3]  Model Confidence:  0.0\n",
      "Most Likely:  [2, 9, 9, 9]\n",
      "(Trained on 90.0 % of data)\n",
      "[3, 1, 2, 9]  Model Confidence:  0.0\n",
      "[3, 1, 2, 7]  Model Confidence:  0.0\n",
      "[2, 9, 9, 9]  Model Confidence:  0.0\n",
      "[9, 9, 9, 9]  Model Confidence:  0.0\n",
      "[3, 5, 6, 0]  Model Confidence:  0.0\n",
      "[3, 2, 3, 3]  Model Confidence:  0.0\n",
      "Most Likely:  [1, 2, 3, 8]\n"
     ]
    }
   ],
   "source": [
    "known = [1,2,3,8]\n",
    "\n",
    "print('Known Pin : ',known )\n",
    "print('')\n",
    "\n",
    "#SVC , Random Forest print from function\n",
    "guess_list, probs = predictKnownPin(known)\n",
    "\n",
    "print('')\n",
    "print('MLP Neural Network Predictions: ')\n",
    "\n",
    "for i in range(len(guess_list)):\n",
    "    print(guess_list[i], ' Model Confidence: ', probs[i]*100)\n",
    "print('Most Likely: ', guess_list[np.argmax(probs)])\n",
    "\n",
    "print('')\n",
    "print('Random Forest Predictions: ')\n",
    "for fn in glob.glob('./*_rf.pkl'):\n",
    "    print('(Trained on ' + fn[8:-7]+ ' % of data)')\n",
    "    \n",
    "    guess_list_rfc, probs_rfc = predictKnownPin_rf(known,fn)\n",
    "    for i in range(len(guess_list)):\n",
    "        print(guess_list_rfc[i], ' Model Confidence: ', probs_rfc[i]*100)\n",
    "    print('Most Likely: ', guess_list_rfc[np.argmax(probs_rfc)])"
   ]
  },
  {
   "cell_type": "code",
   "execution_count": 43,
   "metadata": {},
   "outputs": [
    {
     "name": "stdout",
     "output_type": "stream",
     "text": [
      "Known Pin :  [7, 5, 2, 3]\n",
      "\n",
      "Support Vector Predictions : \n",
      "[[7, 5], [0, 8], [5, 6]]\n",
      "\n",
      "MLP Neural Network Predictions: \n",
      "[7, 5, 2, 3]  Model Confidence:  0.353966256096\n",
      "Most Likely:  [7, 5, 2, 3]\n",
      "\n",
      "Random Forest Predictions: \n",
      "(Trained on 100 % of data)\n",
      "[2, 9, 9, 9]  Model Confidence:  0.0\n",
      "Most Likely:  [7, 5, 2, 3]\n",
      "(Trained on 60.0 % of data)\n",
      "[2, 7, 4, 5]  Model Confidence:  0.0\n",
      "Most Likely:  [2, 7, 4, 5]\n",
      "(Trained on 70.0 % of data)\n",
      "[3, 2, 8, 9]  Model Confidence:  0.0\n",
      "Most Likely:  [7, 5, 2, 3]\n",
      "(Trained on 80.0 % of data)\n",
      "[2, 9, 9, 9]  Model Confidence:  0.0\n",
      "Most Likely:  [2, 9, 9, 9]\n",
      "(Trained on 90.0 % of data)\n",
      "[2, 8, 5, 6]  Model Confidence:  0.0\n",
      "Most Likely:  [7, 5, 2, 3]\n"
     ]
    }
   ],
   "source": [
    "known = [7,5,2,3]\n",
    "\n",
    "print('Known Pin : ',known )\n",
    "print('')\n",
    "\n",
    "#SVC , Random Forest print from function\n",
    "guess_list, probs = predictKnownPin(known)\n",
    "\n",
    "print('')\n",
    "print('MLP Neural Network Predictions: ')\n",
    "\n",
    "for i in range(len(guess_list)):\n",
    "    print(guess_list[i], ' Model Confidence: ', probs[i]*100)\n",
    "print('Most Likely: ', guess_list[np.argmax(probs)])\n",
    "\n",
    "print('')\n",
    "print('Random Forest Predictions: ')\n",
    "for fn in glob.glob('./*_rf.pkl'):\n",
    "    print('(Trained on ' + fn[8:-7]+ ' % of data)')\n",
    "    \n",
    "    guess_list_rfc, probs_rfc = predictKnownPin_rf(known,fn)\n",
    "    for i in range(len(guess_list)):\n",
    "        print(guess_list_rfc[i], ' Model Confidence: ', probs_rfc[i]*100)\n",
    "    print('Most Likely: ', guess_list_rfc[np.argmax(probs_rfc)])"
   ]
  },
  {
   "cell_type": "code",
   "execution_count": 89,
   "metadata": {},
   "outputs": [
    {
     "name": "stdout",
     "output_type": "stream",
     "text": [
      "Known Pin :  [0, 0, 3, 3]\n",
      "[8, 8, 2, 2]  Model Confidence:  0.00117218946826\n",
      "[8, 8, 3, 3]  Model Confidence:  0.0102926936962\n",
      "[9, 9, 3, 3]  Model Confidence:  0.00220356040849\n",
      "[7, 7, 2, 2]  Model Confidence:  0.00687963087043\n",
      "[7, 7, 1, 1]  Model Confidence:  0.00171182716123\n",
      "[4, 4, 1, 1]  Model Confidence:  7.92161446098e-05\n",
      "[0, 0, 5, 5]  Model Confidence:  0.000945412392058\n",
      "[0, 0, 6, 6]  Model Confidence:  0.00830253765992\n",
      "[0, 0, 3, 3]  Model Confidence:  1.00321637586\n",
      "[0, 0, 2, 2]  Model Confidence:  0.00504664102039\n",
      "Most Likely:  [0, 0, 3, 3]\n"
     ]
    }
   ],
   "source": [
    "known = [0,0,3,3]\n",
    "guess_list, probs = predictKnownPin(known)\n",
    "print('Known Pin : ',known )\n",
    "for i in range(len(guess_list)):\n",
    "    print(guess_list[i], ' Model Confidence: ', probs[i]*100)\n",
    "print('Most Likely: ', guess_list[np.argmax(probs)])"
   ]
  },
  {
   "cell_type": "code",
   "execution_count": 90,
   "metadata": {},
   "outputs": [
    {
     "name": "stdout",
     "output_type": "stream",
     "text": [
      "Known Pin :  [0, 1, 2, 3]\n",
      "[9, 1, 2, 3]  Model Confidence:  3.17527802872e-06\n",
      "[7, 1, 2, 3]  Model Confidence:  0.00240201709381\n",
      "[8, 1, 2, 3]  Model Confidence:  0.0205763657387\n",
      "[0, 4, 5, 6]  Model Confidence:  0.01680981562\n",
      "[0, 1, 2, 3]  Model Confidence:  2.21661188435\n",
      "Most Likely:  [0, 1, 2, 3]\n"
     ]
    }
   ],
   "source": [
    "known = [0,1,2,3]\n",
    "guess_list, probs = predictKnownPin(known)\n",
    "print('Known Pin : ',known )\n",
    "for i in range(len(guess_list)):\n",
    "    print(guess_list[i], ' Model Confidence: ', probs[i]*100)\n",
    "print('Most Likely: ', guess_list[np.argmax(probs)])"
   ]
  },
  {
   "cell_type": "code",
   "execution_count": 91,
   "metadata": {},
   "outputs": [
    {
     "name": "stdout",
     "output_type": "stream",
     "text": [
      "Known Pin :  [1, 1, 1, 1]\n",
      "[8, 8, 8, 8]  Model Confidence:  0.0715812207438\n",
      "[1, 1, 1, 1]  Model Confidence:  0.0802213029822\n",
      "[5, 5, 5, 5]  Model Confidence:  0.0755611338662\n",
      "[4, 4, 4, 4]  Model Confidence:  0.0921163964732\n",
      "[9, 9, 9, 9]  Model Confidence:  0.086824194223\n",
      "[7, 7, 7, 7]  Model Confidence:  0.128080838227\n",
      "[6, 6, 6, 6]  Model Confidence:  0.138020792482\n",
      "[3, 3, 3, 3]  Model Confidence:  0.125368543033\n",
      "[2, 2, 2, 2]  Model Confidence:  0.124041706294\n",
      "[0, 0, 0, 0]  Model Confidence:  0.0857444055548\n",
      "Most Likely:  [6, 6, 6, 6]\n"
     ]
    }
   ],
   "source": [
    "known = [1,1,1,1]\n",
    "guess_list, probs = predictKnownPin(known)\n",
    "print('Known Pin : ',known )\n",
    "for i in range(len(guess_list)):\n",
    "    print(guess_list[i], ' Model Confidence: ', probs[i]*100)\n",
    "print('Most Likely: ', guess_list[np.argmax(probs)])"
   ]
  },
  {
   "cell_type": "code",
   "execution_count": 92,
   "metadata": {},
   "outputs": [
    {
     "name": "stdout",
     "output_type": "stream",
     "text": [
      "Known Pin :  [5, 6, 7, 9]\n",
      "[7, 6, 8, 9]  Model Confidence:  1.67382073602e-07\n",
      "[7, 6, 4, 5]  Model Confidence:  6.90099978097e-07\n",
      "[7, 6, 4, 6]  Model Confidence:  5.59224373368e-05\n",
      "[7, 6, 7, 9]  Model Confidence:  0.018855253724\n",
      "[7, 6, 7, 8]  Model Confidence:  0.000333298089479\n",
      "[1, 3, 5, 6]  Model Confidence:  8.13532352578e-07\n",
      "[1, 3, 1, 6]  Model Confidence:  7.77501293072e-07\n",
      "[1, 3, 1, 3]  Model Confidence:  8.5775541443e-05\n",
      "[1, 3, 1, 2]  Model Confidence:  1.06670466357e-06\n",
      "[1, 3, 4, 5]  Model Confidence:  0.00078986974261\n",
      "[1, 3, 4, 6]  Model Confidence:  0.0640073070385\n",
      "[1, 3, 7, 9]  Model Confidence:  0.000143717116274\n",
      "[1, 3, 7, 8]  Model Confidence:  2.54043997395e-06\n",
      "[7, 9, 7, 9]  Model Confidence:  5.42319324908e-05\n",
      "[7, 9, 7, 8]  Model Confidence:  9.58639950037e-07\n",
      "[4, 6, 8, 9]  Model Confidence:  7.60538618538e-07\n",
      "[4, 6, 4, 5]  Model Confidence:  3.13562660983e-06\n",
      "[4, 6, 4, 6]  Model Confidence:  0.000254096345697\n",
      "[4, 6, 7, 9]  Model Confidence:  0.0856731447454\n",
      "[4, 6, 7, 8]  Model Confidence:  0.00151441586951\n",
      "[2, 3, 5, 6]  Model Confidence:  3.74910929685e-05\n",
      "[2, 3, 1, 6]  Model Confidence:  3.58306257512e-05\n",
      "[2, 3, 1, 3]  Model Confidence:  0.00395290831209\n",
      "[2, 3, 1, 2]  Model Confidence:  4.91583691604e-05\n",
      "[2, 3, 4, 5]  Model Confidence:  0.0364006174547\n",
      "[2, 3, 4, 6]  Model Confidence:  2.94973382588\n",
      "[2, 3, 7, 9]  Model Confidence:  0.00662310693645\n",
      "[2, 3, 7, 8]  Model Confidence:  0.000117074472751\n",
      "[5, 6, 8, 9]  Model Confidence:  2.25291921208e-05\n",
      "[5, 6, 4, 5]  Model Confidence:  9.28856636468e-05\n",
      "[5, 6, 4, 6]  Model Confidence:  0.00752701473647\n",
      "[5, 6, 7, 9]  Model Confidence:  2.53786815095\n",
      "[5, 6, 7, 8]  Model Confidence:  0.0448610566818\n",
      "[8, 9, 7, 9]  Model Confidence:  0.00181729251732\n",
      "[8, 9, 7, 8]  Model Confidence:  3.21236793157e-05\n",
      "[1, 2, 4, 5]  Model Confidence:  9.79087835145e-05\n",
      "[1, 2, 4, 6]  Model Confidence:  0.00793406460598\n",
      "[4, 5, 7, 9]  Model Confidence:  0.00413997708219\n",
      "[4, 5, 7, 8]  Model Confidence:  7.31810068524e-05\n",
      "Most Likely:  [2, 3, 4, 6]\n"
     ]
    }
   ],
   "source": [
    "known = [5,6,7,9]\n",
    "guess_list, probs = predictKnownPin(known)\n",
    "print('Known Pin : ',known )\n",
    "for i in range(len(guess_list)):\n",
    "    print(guess_list[i], ' Model Confidence: ', probs[i]*100)\n",
    "print('Most Likely: ', guess_list[np.argmax(probs)])"
   ]
  },
  {
   "cell_type": "code",
   "execution_count": null,
   "metadata": {
    "collapsed": true
   },
   "outputs": [],
   "source": []
  }
 ],
 "metadata": {
  "kernelspec": {
   "display_name": "Python 3",
   "language": "python",
   "name": "python3"
  },
  "language_info": {
   "codemirror_mode": {
    "name": "ipython",
    "version": 3
   },
   "file_extension": ".py",
   "mimetype": "text/x-python",
   "name": "python",
   "nbconvert_exporter": "python",
   "pygments_lexer": "ipython3",
   "version": "3.6.3"
  }
 },
 "nbformat": 4,
 "nbformat_minor": 2
}
