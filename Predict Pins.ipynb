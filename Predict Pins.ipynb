{
 "cells": [
  {
   "cell_type": "markdown",
   "metadata": {},
   "source": [
    "<br>Predict Pin\n",
    "<br>Doles, Nix, Terlecky\n",
    "\n",
    "<br>In this file:\n",
    "<br>    choose pin \n",
    "<br>    generate pseudo-data from known pin\n",
    "<br>    input data into mlp\n",
    "<br>    output is predicitons\n",
    "<br>    print predicitons"
   ]
  },
  {
   "cell_type": "markdown",
   "metadata": {},
   "source": [
    "Code below generates raw accellerometer data from the known pin, which is then used as input to the mlp classifier. the probs are used to generate a guess list ... TODO - sum probs and displlay confidence in each guess\n"
   ]
  },
  {
   "cell_type": "code",
   "execution_count": 1,
   "metadata": {
    "collapsed": true
   },
   "outputs": [],
   "source": [
    "%run util.py"
   ]
  },
  {
   "cell_type": "code",
   "execution_count": 2,
   "metadata": {},
   "outputs": [
    {
     "name": "stdout",
     "output_type": "stream",
     "text": [
      "Known Pin :  [1, 4, 2, 3]\n",
      "1 4 2 3\n",
      "1 7 2 3\n",
      "1 7 5 6\n",
      "4 7 2 3\n",
      "4 7 5 6\n",
      "Known Pin :  [0, 1, 2, 3]\n",
      "9 1 2 3\n",
      "7 1 2 3\n",
      "0 4 2 3\n",
      "0 4 5 6\n",
      "8 1 2 3\n",
      "0 1 2 3\n",
      "Known Pin :  [9, 8, 7, 5]\n",
      "9 8 7 2\n",
      "9 8 7 6\n",
      "9 8 7 3\n",
      "9 8 7 5\n"
     ]
    }
   ],
   "source": [
    "guess_list = predictKnownPin([1,4,2,3])\n",
    "print('Known Pin : ',[1,4,2,3] )\n",
    "for i in guess_list:\n",
    "    print(i[0],i[1],i[2],i[3])\n",
    "guess_list = predictKnownPin([0,1,2,3])\n",
    "print('Known Pin : ',[0,1,2,3] )\n",
    "for i in guess_list:\n",
    "    print(i[0],i[1],i[2],i[3])\n",
    "guess_list = predictKnownPin([9,8,7,5])\n",
    "print('Known Pin : ',[9,8,7,5] )\n",
    "for i in guess_list:\n",
    "    print(i[0],i[1],i[2],i[3])"
   ]
  },
  {
   "cell_type": "code",
   "execution_count": null,
   "metadata": {
    "collapsed": true
   },
   "outputs": [],
   "source": []
  },
  {
   "cell_type": "code",
   "execution_count": null,
   "metadata": {
    "collapsed": true
   },
   "outputs": [],
   "source": []
  }
 ],
 "metadata": {
  "kernelspec": {
   "display_name": "Python 3",
   "language": "python",
   "name": "python3"
  },
  "language_info": {
   "codemirror_mode": {
    "name": "ipython",
    "version": 3
   },
   "file_extension": ".py",
   "mimetype": "text/x-python",
   "name": "python",
   "nbconvert_exporter": "python",
   "pygments_lexer": "ipython3",
   "version": "3.6.3"
  }
 },
 "nbformat": 4,
 "nbformat_minor": 2
}
