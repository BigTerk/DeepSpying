{
 "cells": [
  {
   "cell_type": "markdown",
   "metadata": {},
   "source": [
    "Make Fake Data Set\n",
    "\n",
    "Doles,Nix,Terlecky\n",
    "\n",
    "Produces fake raw accelerometer data from list of pin numbers. Data is comparable to actual accelerometer data and includes noise"
   ]
  },
  {
   "cell_type": "code",
   "execution_count": 2,
   "metadata": {
    "collapsed": true
   },
   "outputs": [],
   "source": [
    "#essential imports and functions\n",
    "%run util.py"
   ]
  },
  {
   "cell_type": "code",
   "execution_count": 3,
   "metadata": {
    "collapsed": true
   },
   "outputs": [],
   "source": [
    "#Filepath to csv that contains the list of pin numbers \n",
    "fp = './listOfNums.csv'\n",
    "\n",
    "#Save locations for output data and labels as npy files\n",
    "#using .npy format for fast save/load\n",
    "fp_outData = './pin_data.npy'\n",
    "fp_outLabels = './pin_labels.npy'"
   ]
  },
  {
   "cell_type": "code",
   "execution_count": 4,
   "metadata": {
    "collapsed": true
   },
   "outputs": [],
   "source": [
    "data = []\n",
    "labels = []"
   ]
  },
  {
   "cell_type": "code",
   "execution_count": 5,
   "metadata": {
    "collapsed": true
   },
   "outputs": [],
   "source": [
    "#Read pre-defined pin number list from file \n",
    "pinNums = np.array(pd.read_csv(fp, header=None))"
   ]
  },
  {
   "cell_type": "code",
   "execution_count": 6,
   "metadata": {},
   "outputs": [],
   "source": [
    "#loop through all pin numbers from file\n",
    "for pin in pinNums:\n",
    "    #Extract number-number transitions\n",
    "    transitions = []\n",
    "    for i in range(len(pin)-1):\n",
    "        transitions.append([pin[i],pin[i+1]])\n",
    "    #define list to append date to\n",
    "    acc_data = []\n",
    "    #loop through transitions\n",
    "    for t in transitions:\n",
    "        #generate data for transition and append to local list\n",
    "        acc_data.append(pseudo_data(distance(coords[t[0]],coords[t[1]])))\n",
    "    #append local data and corresponding labels to data set and labels\n",
    "    labels.append(pin)\n",
    "    data.append(acc_data)"
   ]
  },
  {
   "cell_type": "code",
   "execution_count": 7,
   "metadata": {
    "collapsed": true
   },
   "outputs": [],
   "source": [
    "#export data and labels\n",
    "np.save(fp_outData, data, allow_pickle=False)\n",
    "np.save(fp_outLabels, labels, allow_pickle=False)"
   ]
  },
  {
   "cell_type": "code",
   "execution_count": null,
   "metadata": {
    "collapsed": true
   },
   "outputs": [],
   "source": []
  }
 ],
 "metadata": {
  "kernelspec": {
   "display_name": "Python 3",
   "language": "python",
   "name": "python3"
  },
  "language_info": {
   "codemirror_mode": {
    "name": "ipython",
    "version": 3
   },
   "file_extension": ".py",
   "mimetype": "text/x-python",
   "name": "python",
   "nbconvert_exporter": "python",
   "pygments_lexer": "ipython3",
   "version": "3.6.3"
  }
 },
 "nbformat": 4,
 "nbformat_minor": 2
}
