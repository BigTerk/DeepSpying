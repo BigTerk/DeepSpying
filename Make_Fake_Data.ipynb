{
 "cells": [
  {
   "cell_type": "markdown",
   "metadata": {},
   "source": [
    "Make Fake Data Set\n",
    "\n",
    "Doles,Nix,Terlecky\n",
    "\n",
    "Produces fake raw accelerometer data from list of pin numbers. Data is comparable to actual accelerometer data and includes noise"
   ]
  },
  {
   "cell_type": "code",
   "execution_count": 2,
   "metadata": {
    "collapsed": true
   },
   "outputs": [],
   "source": [
    "%run util.py"
   ]
  },
  {
   "cell_type": "code",
   "execution_count": 3,
   "metadata": {
    "collapsed": true
   },
   "outputs": [],
   "source": [
    "#Filepath to csv that contains the list of pin numbers \n",
    "fp = './listOfNums.csv'\n",
    "#Save locations for output data and labels as npy files\n",
    "fp_outData = './pin_data.npy'\n",
    "fp_outLabels = './pin_labels.npy'"
   ]
  },
  {
   "cell_type": "code",
   "execution_count": 4,
   "metadata": {
    "collapsed": true
   },
   "outputs": [],
   "source": [
    "data = []\n",
    "labels = []"
   ]
  },
  {
   "cell_type": "code",
   "execution_count": 5,
   "metadata": {
    "collapsed": true
   },
   "outputs": [],
   "source": [
    "#Define coordinate system for the number pad\n",
    "#With coords defined as dictionary of digit : position\n",
    "num_pos=[[0,3],[1,3],[2,3],[0,2],[1,2],[2,2],[0,1],[1,1],[2,1],[1,0]]\n",
    "nums = [1,2,3,4,5,6,7,8,9,0]\n",
    "coords = {}\n",
    "\n",
    "for i in range(len(nums)):\n",
    "    coords[nums[i]] = num_pos[i]\n"
   ]
  },
  {
   "cell_type": "code",
   "execution_count": 6,
   "metadata": {
    "collapsed": true
   },
   "outputs": [],
   "source": [
    "def distance(start,finish):\n",
    "        '''\n",
    "        Returns delta_x, delta_y given starting and ending coords\n",
    "        '''\n",
    "        dist_x=finish[0]-start[0]\n",
    "        dist_y=finish[1]-start[1]\n",
    "        #before_square=(dist_x)**2+(dist_y)**2\n",
    "        #final=np.sqrt(before_square)\n",
    "        return(dist_x,dist_y)\n"
   ]
  },
  {
   "cell_type": "code",
   "execution_count": 7,
   "metadata": {
    "collapsed": true
   },
   "outputs": [],
   "source": [
    "def pseudo_data(trans):\n",
    "    '''\n",
    "    returns simulated accelerometer data for a single transition with noise\n",
    "    \n",
    "    usage: trans is manhattan distance btwm numbers in keypad as returned by distance()\n",
    "    '''\n",
    "    def noise():\n",
    "        return random.random()*.1\n",
    "    \n",
    "    test = []\n",
    "    for i in range(12):\n",
    "        test.append([trans[0]*.3+noise(),trans[1]*.3+noise()])\n",
    "    return test    "
   ]
  },
  {
   "cell_type": "code",
   "execution_count": 8,
   "metadata": {
    "collapsed": true
   },
   "outputs": [],
   "source": [
    "#Read pre-defined pin number list from file \n",
    "pinNums = np.array(pd.read_csv(fp, header=None))"
   ]
  },
  {
   "cell_type": "code",
   "execution_count": 9,
   "metadata": {
    "collapsed": true
   },
   "outputs": [],
   "source": [
    "#loop through all pin numbers from file\n",
    "for pin in pinNums:\n",
    "    #Extract number-number transitions\n",
    "    transitions = []\n",
    "    for i in range(len(pin)-1):\n",
    "        transitions.append([pin[i],pin[i+1]])\n",
    "\n",
    "    acc_data = []\n",
    "    for t in transitions:\n",
    "        acc_data.append(pseudo_data(distance(coords[t[0]],coords[t[1]])))\n",
    "    \n",
    "    labels.append(pin)\n",
    "    data.append(acc_data)"
   ]
  },
  {
   "cell_type": "code",
   "execution_count": 10,
   "metadata": {
    "collapsed": true
   },
   "outputs": [],
   "source": [
    "np.save(fp_outData, data, allow_pickle=False)\n",
    "np.save(fp_outLabels, labels, allow_pickle=False)"
   ]
  },
  {
   "cell_type": "code",
   "execution_count": null,
   "metadata": {},
   "outputs": [],
   "source": []
  },
  {
   "cell_type": "code",
   "execution_count": null,
   "metadata": {
    "collapsed": true
   },
   "outputs": [],
   "source": []
  },
  {
   "cell_type": "code",
   "execution_count": null,
   "metadata": {
    "collapsed": true
   },
   "outputs": [],
   "source": []
  }
 ],
 "metadata": {
  "kernelspec": {
   "display_name": "Python 3",
   "language": "python",
   "name": "python3"
  },
  "language_info": {
   "codemirror_mode": {
    "name": "ipython",
    "version": 3
   },
   "file_extension": ".py",
   "mimetype": "text/x-python",
   "name": "python",
   "nbconvert_exporter": "python",
   "pygments_lexer": "ipython3",
   "version": "3.6.3"
  }
 },
 "nbformat": 4,
 "nbformat_minor": 2
}
